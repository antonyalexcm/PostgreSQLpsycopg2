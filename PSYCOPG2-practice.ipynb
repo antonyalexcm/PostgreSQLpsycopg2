{
 "cells": [
  {
   "cell_type": "markdown",
   "metadata": {},
   "source": [
    "# Perform PostgreSQL CRUD operations from Python"
   ]
  },
  {
   "cell_type": "markdown",
   "metadata": {},
   "source": [
    "Reference URL - https://www.geeksforgeeks.org/perform-postgresql-crud-operations-from-python/\n",
    "\n",
    "This is an amateur attempt to connect to PostgreSQL from python using psycopg2\n",
    "\n",
    "\n",
    "Issue faced -\n",
    "\n",
    "- Setting Windows Path For Postgresql\n",
    "\n",
    " Navigate to the below  and add the \"C:\\Program Files\\PostgreSQL\\13\\bin\" to the panel\n",
    "  \n",
    "  Control Panel\n",
    "   All Control Panel Items\n",
    "    System\n",
    "      Advanced System Settings\n",
    "        Environment Variables\n",
    "          from the System Variables box select \"PATH\"\n",
    "              Edit..."
   ]
  },
  {
   "cell_type": "code",
   "execution_count": 2,
   "metadata": {},
   "outputs": [
    {
     "name": "stdout",
     "output_type": "stream",
     "text": [
      "Requirement already satisfied: psycopg2 in c:\\programdata\\anaconda3\\lib\\site-packages (2.9.3)\n",
      "Note: you may need to restart the kernel to use updated packages.\n"
     ]
    }
   ],
   "source": [
    "pip install psycopg2"
   ]
  },
  {
   "cell_type": "code",
   "execution_count": 3,
   "metadata": {},
   "outputs": [],
   "source": [
    "import psycopg2"
   ]
  },
  {
   "cell_type": "code",
   "execution_count": 4,
   "metadata": {},
   "outputs": [],
   "source": [
    "# Establishing the connection\n",
    "conn = psycopg2.connect(\n",
    "    database=\"dvdrental\",\n",
    "    user=\"postgres\",\n",
    "    password=\"alex\",\n",
    "    host=\"127.0.0.1\",\n",
    "    port=\"5432\")"
   ]
  },
  {
   "cell_type": "code",
   "execution_count": 5,
   "metadata": {},
   "outputs": [],
   "source": [
    "cursor = conn.cursor()"
   ]
  },
  {
   "cell_type": "markdown",
   "metadata": {},
   "source": [
    "Performing Read Operation in Postgres Database using Python"
   ]
  },
  {
   "cell_type": "code",
   "execution_count": 8,
   "metadata": {},
   "outputs": [
    {
     "name": "stdout",
     "output_type": "stream",
     "text": [
      "Selecting rows from country table using cursor.fetchall\n",
      "Print each row and it's column values\n",
      "country_id =  1\n",
      "country =  Afghanistan\n",
      "last_update =  2006-02-15 09:44:00 \n",
      "\n",
      "PostgreSQL connection is closed.\n"
     ]
    }
   ],
   "source": [
    "import psycopg2\n",
    "\n",
    "try:\n",
    "    conn = psycopg2.connect(\n",
    "            database=\"dvdrental\",\n",
    "            user=\"postgres\",\n",
    "            password=\"alex\",\n",
    "            host=\"127.0.0.1\",\n",
    "            port=\"5432\")\n",
    "    \n",
    "    #Cursor Instantiation\n",
    "    \n",
    "    cursor=conn.cursor()\n",
    "    \n",
    "    postgreSQL_select_Query=\"select * from country\"\n",
    "    \n",
    "    cursor.execute(postgreSQL_select_Query)\n",
    "    print(\"Selecting rows from country table using cursor.fetchall\")\n",
    "    \n",
    "    publisher_records = cursor.fetchall()\n",
    "    print(\"Print each row and it's column values\")\n",
    "    \n",
    "    #The table has three columns namley country_id, country, last_update\n",
    "    for row in publisher_records:\n",
    "        print(\"country_id = \", row[0])\n",
    "        print(\"country = \", row[1])\n",
    "        print(\"last_update = \", row[2], \"\\n\")\n",
    "        break #Escaping from the for loop as the table is huge\n",
    "        \n",
    "except (Exception, psycopg2.Error) as error:\n",
    "    print(\"Error while fetching data from postgreSQL\", error)\n",
    "    \n",
    "finally:\n",
    "    if conn:\n",
    "        cursor.close()\n",
    "        conn.close()\n",
    "        print(\"PostgreSQL connection is closed.\")"
   ]
  },
  {
   "cell_type": "markdown",
   "metadata": {},
   "source": [
    "Performing create operation in PostgreSQL database using Python"
   ]
  },
  {
   "cell_type": "code",
   "execution_count": 9,
   "metadata": {},
   "outputs": [
    {
     "name": "stdout",
     "output_type": "stream",
     "text": [
      "Table Created successfully....\n",
      "PostgreSQL connection is closed.\n"
     ]
    }
   ],
   "source": [
    "import psycopg2\n",
    "\n",
    "try:\n",
    "    conn=psycopg2.connect(\n",
    "        database=\"dvdrental\",\n",
    "        user=\"postgres\",\n",
    "        password=\"alex\",\n",
    "        host=\"127.0.0.1\",\n",
    "        port=\"5432\")\n",
    "\n",
    "    cursor=conn.cursor()\n",
    "    \n",
    "    #Droping publisher table if it already exists\n",
    "    cursor.execute(\"DROP TABLE IF EXISTS publisher\")\n",
    "    \n",
    "    #Creating the table publisher as per the requirements\n",
    "    sql='''CREATE TABLE publisher(\n",
    "               publisher_id SERIAL PRIMARY KEY,\n",
    "               publisher_name VARCHAR(255) NOT NULL,\n",
    "               publisher_estd INT,\n",
    "               publisher_location VARCHAR(255),\n",
    "               publisher_type VARCHAR(255)\n",
    "               )'''\n",
    "    \n",
    "    cursor.execute(sql)\n",
    "    \n",
    "    print(\"Table Created successfully....\")\n",
    "    \n",
    "    conn.commit()\n",
    "    \n",
    "finally:\n",
    "    if conn:\n",
    "        conn.close()\n",
    "        print(\"PostgreSQL connection is closed.\")\n",
    "    \n",
    "    \n",
    "    "
   ]
  },
  {
   "cell_type": "markdown",
   "metadata": {},
   "source": [
    "Perform Insert operation in PostgreSQL database using Python"
   ]
  },
  {
   "cell_type": "code",
   "execution_count": 10,
   "metadata": {},
   "outputs": [
    {
     "name": "stdout",
     "output_type": "stream",
     "text": [
      "1 Record inserted successfully into publisher table\n",
      "PostgreSQL connection is closed\n"
     ]
    }
   ],
   "source": [
    "import psycopg2 as psycop\n",
    "\n",
    "\n",
    "try:\n",
    "    conn=psycop.connect(\n",
    "        database=\"dvdrental\",\n",
    "        user=\"postgres\",\n",
    "        password=\"alex\",\n",
    "        host=\"127.0.0.1\",\n",
    "        port=\"5432\")\n",
    "    \n",
    "    cursor=conn.cursor()\n",
    "    \n",
    "    \n",
    "    postgres_insert_query = \"\"\"INSERT INTO publisher(publisher_id,\n",
    "    publisher_name, publisher_estd, publisher_location, publisher_type)\n",
    "    VALUES (%s,%s,%s,%s,%s)\"\"\"\n",
    "    \n",
    "    record_to_insert = [(1, 'Packt', 1950,\n",
    "                         'chennai', 'books'),\n",
    "                        (2, 'Springer', 1950,\n",
    "                         'chennai', 'books'),\n",
    "                        (3, 'Springer', 1950,\n",
    "                         'chennai', 'articles'),\n",
    "                        (4, 'Oxford', 1950,\n",
    "                         'chennai', 'all'),\n",
    "                        (5, 'MIT', 1950,\n",
    "                         'chennai', 'books')]\n",
    "    \n",
    "    for i in record_to_insert:\n",
    "        cursor.execute(postgres_insert_query, i)\n",
    " \n",
    "        conn.commit()\n",
    "        count = cursor.rowcount\n",
    "        \n",
    "    print(count, \"Record inserted successfully into publisher table\")\n",
    " \n",
    "except (Exception, psycop.Error) as error:\n",
    "    print(\"Failed to insert record into publisher table\", error)\n",
    " \n",
    "finally:\n",
    "    # closing database connection\n",
    "    if conn:\n",
    "        cursor.close()\n",
    "        conn.close()\n",
    "        print(\"PostgreSQL connection is closed\")\n",
    "    "
   ]
  },
  {
   "cell_type": "code",
   "execution_count": null,
   "metadata": {},
   "outputs": [],
   "source": []
  }
 ],
 "metadata": {
  "kernelspec": {
   "display_name": "Python 3",
   "language": "python",
   "name": "python3"
  },
  "language_info": {
   "codemirror_mode": {
    "name": "ipython",
    "version": 3
   },
   "file_extension": ".py",
   "mimetype": "text/x-python",
   "name": "python",
   "nbconvert_exporter": "python",
   "pygments_lexer": "ipython3",
   "version": "3.7.3"
  }
 },
 "nbformat": 4,
 "nbformat_minor": 2
}
